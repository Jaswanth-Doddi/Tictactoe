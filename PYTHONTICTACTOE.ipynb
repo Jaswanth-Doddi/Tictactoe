{
 "cells": [
  {
   "cell_type": "code",
   "execution_count": 14,
   "id": "76201f44",
   "metadata": {},
   "outputs": [],
   "source": [
    "from IPython.display import clear_output\n",
    "def display_board(board):\n",
    "    clear_output()\n",
    "    print('\\n' * 100)\n",
    "    print(board[7] + \"|\" + board[8] + \"|\" + board[9])\n",
    "    print(\"-----\")\n",
    "    print(board[4] + \"|\" + board[5] + \"|\" + board[6])\n",
    "    print(\"-----\")\n",
    "    print(board[1] + \"|\" + board[2] + \"|\" + board[3])"
   ]
  },
  {
   "cell_type": "code",
   "execution_count": 15,
   "id": "f2ff24de",
   "metadata": {},
   "outputs": [],
   "source": [
    "def player_input():\n",
    "    player1_mark=input('Choose your marker between X or O')\n",
    "    if player1_mark.upper()=='X':\n",
    "        player1_mark='X'\n",
    "        player2_mark='O'\n",
    "        return(player1_mark,player2_mark)\n",
    "    elif player1_mark.upper()=='O':\n",
    "        player1_mark='O'\n",
    "        player2_mark='X'\n",
    "        return(player1_mark,player2_mark)\n",
    "    else:\n",
    "        print('Inavalid input,pls try again')\n",
    "        player_input()"
   ]
  },
  {
   "cell_type": "code",
   "execution_count": null,
   "id": "c79de84e",
   "metadata": {},
   "outputs": [],
   "source": [
    "def place_marker(pos,marker,board):\n",
    "    if board[pos]==' ':\n",
    "        board[pos]=marker\n",
    "    else:\n",
    "        print('your opted place has already filled,pls choose other option')\n",
    "        place_marker()"
   ]
  },
  {
   "cell_type": "code",
   "execution_count": null,
   "id": "d0bb12c9",
   "metadata": {},
   "outputs": [],
   "source": [
    "def win_check(board,mark):\n",
    "    \n",
    "    return ((board[7] == mark and board[8] == mark and board[9] == mark) or # across the top\n",
    "    (board[4] == mark and board[5] == mark and board[6] == mark) or # across the middle\n",
    "    (board[1] == mark and board[2] == mark and board[3] == mark) or # across the bottom\n",
    "    (board[7] == mark and board[4] == mark and board[1] == mark) or # down the middle\n",
    "    (board[8] == mark and board[5] == mark and board[2] == mark) or # down the middle\n",
    "    (board[9] == mark and board[6] == mark and board[3] == mark) or # down the right side\n",
    "    (board[7] == mark and board[5] == mark and board[3] == mark) or # diagonal\n",
    "    (board[9] == mark and board[5] == mark and board[1] == mark)) # diagonal"
   ]
  },
  {
   "cell_type": "code",
   "execution_count": null,
   "id": "44acabc9",
   "metadata": {},
   "outputs": [],
   "source": [
    "import random\n",
    "\n",
    "def choose_first():\n",
    "    if random.randint(0, 1) == 0:\n",
    "        return 'Player 2'\n",
    "    else:\n",
    "        return 'Player 1'"
   ]
  },
  {
   "cell_type": "code",
   "execution_count": null,
   "id": "f9974e75",
   "metadata": {},
   "outputs": [],
   "source": [
    "def isboard_full(board):\n",
    "    for i in range(1,10):\n",
    "        if board[i]==' ':\n",
    "            return False\n",
    "    return True"
   ]
  },
  {
   "cell_type": "code",
   "execution_count": null,
   "id": "0cf14eda",
   "metadata": {},
   "outputs": [],
   "source": [
    "def player_choice(board):\n",
    "    position = 0\n",
    "    \n",
    "    while position not in range(1,10):\n",
    "        position = int(input('Choose your next position: (1-9) '))\n",
    "        \n",
    "    return position"
   ]
  },
  {
   "cell_type": "code",
   "execution_count": null,
   "id": "e756c424",
   "metadata": {},
   "outputs": [],
   "source": [
    "def replay():\n",
    "    \n",
    "    return input('Do you want to play again? Enter Yes or No: ').lower().startswith('y')"
   ]
  },
  {
   "cell_type": "code",
   "execution_count": null,
   "id": "dd789dc3",
   "metadata": {},
   "outputs": [],
   "source": [
    "while True:\n",
    "    game_board=[' ']*10\n",
    "    #allocating the markers\n",
    "    player1_marker,player2_marker=player_input()\n",
    "    \n",
    "    turn=choose_first()\n",
    "    print(turn + 'will go first')\n",
    "    \n",
    "    play_game = input('Are you ready to play? Enter Yes or No.')\n",
    "    \n",
    "    if play_game.lower()[0] == 'y':\n",
    "        game_on = True\n",
    "    else:\n",
    "        game_on = False\n",
    "    \n",
    "    while game_on:\n",
    "        if turn == 'Player 1':\n",
    "            # Player1's turn.\n",
    "            \n",
    "            display_board(game_board)\n",
    "            position = player_choice(game_board)\n",
    "            place_marker(game_board, player1_marker, pos)\n",
    "\n",
    "            if win_check(game_board, player1_marker):\n",
    "                display_board(game_board)\n",
    "                print('player 1 won the game!')\n",
    "                game_on = False\n",
    "            else:\n",
    "                if full_board_check(game_board):\n",
    "                    display_board(game_board)\n",
    "                    print('The game is a draw!')\n",
    "                    break\n",
    "                else:\n",
    "                    turn = 'Player 2'\n",
    "\n",
    "        else:\n",
    "            # Player2's turn.\n",
    "            \n",
    "            display_board(game_board)\n",
    "            position = player_choice(game_board)\n",
    "            place_marker(theBoard, player2_marker, pos)\n",
    "\n",
    "            if win_check(game_board, player2_marker):\n",
    "                display_board(game_board)\n",
    "                print('Player 2 has won!')\n",
    "                game_on = False\n",
    "            else:\n",
    "                if full_board_check(game_board):\n",
    "                    display_board(game_board)\n",
    "                    print('The game is a draw!')\n",
    "                    break\n",
    "                else:\n",
    "                    turn = 'Player 1'\n",
    "\n",
    "    if not replay():\n",
    "        break\n",
    "        \n",
    "\n",
    "    "
   ]
  },
  {
   "cell_type": "code",
   "execution_count": null,
   "id": "4af15996",
   "metadata": {},
   "outputs": [],
   "source": []
  }
 ],
 "metadata": {
  "kernelspec": {
   "display_name": "Python 3",
   "language": "python",
   "name": "python3"
  },
  "language_info": {
   "codemirror_mode": {
    "name": "ipython",
    "version": 3
   },
   "file_extension": ".py",
   "mimetype": "text/x-python",
   "name": "python",
   "nbconvert_exporter": "python",
   "pygments_lexer": "ipython3",
   "version": "3.9.1"
  }
 },
 "nbformat": 4,
 "nbformat_minor": 5
}
